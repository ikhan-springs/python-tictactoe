{
 "cells": [
  {
   "cell_type": "markdown",
   "metadata": {},
   "source": [
    "___\n",
    "\n",
    "<a href='https://www.udemy.com/user/joseportilla/'><img src='../Pierian_Data_Logo.png'/></a>\n",
    "___\n",
    "<center><em>Content Copyright by Pierian Data</em></center>"
   ]
  },
  {
   "cell_type": "markdown",
   "metadata": {},
   "source": [
    "# Milestone Project 1: Walkthrough Steps Workbook\n",
    "\n",
    "Below is a set of steps for you to follow to try to create the Tic Tac Toe Milestone Project game!"
   ]
  },
  {
   "cell_type": "markdown",
   "metadata": {},
   "source": [
    "#### Some suggested tools before you get started:\n",
    "To take input from a user:\n",
    "\n",
    "    player1 = input(\"Please pick a marker 'X' or 'O'\")\n",
    "    \n",
    "Note that input() takes in a string. If you need an integer value, use\n",
    "\n",
    "    position = int(input('Please enter a number'))\n",
    "    \n",
    "<br>To clear the screen between moves:\n",
    "\n",
    "    from IPython.display import clear_output\n",
    "    clear_output()\n",
    "    \n",
    "Note that clear_output() will only work in jupyter. To clear the screen in other IDEs, consider:\n",
    "\n",
    "    print('\\n'*100)\n",
    "    \n",
    "This scrolls the previous board up out of view. Now on to the program!"
   ]
  },
  {
   "cell_type": "markdown",
   "metadata": {},
   "source": [
    "**Step 1: Write a function that can print out a board. Set up your board as a list, where each index 1-9 corresponds with a number on a number pad, so you get a 3 by 3 board representation.**"
   ]
  },
  {
   "cell_type": "code",
   "execution_count": 1,
   "metadata": {},
   "outputs": [],
   "source": [
    "from IPython.display import clear_output\n",
    "\n",
    "def display_board(board):\n",
    "    \n",
    "    #clear_output()\n",
    "    \n",
    "    print(board[1]+'|'+board[2]+'|'+board[3])\n",
    "    print(board[4]+'|'+board[5]+'|'+board[6])\n",
    "    print(board[7]+'|'+board[8]+'|'+board[9])"
   ]
  },
  {
   "cell_type": "markdown",
   "metadata": {},
   "source": [
    "**TEST Step 1:** run your function on a test version of the board list, and make adjustments as necessary"
   ]
  },
  {
   "cell_type": "code",
   "execution_count": 2,
   "metadata": {},
   "outputs": [
    {
     "name": "stdout",
     "output_type": "stream",
     "text": [
      "X|O|X\n",
      "O|X|O\n",
      "X|O|X\n",
      "X|O|X\n",
      "O|X|O\n",
      "X|O|X\n"
     ]
    }
   ],
   "source": [
    "test_board = ['#','X','O','X','O','X','O','X','O','X']\n",
    "display_board(test_board)\n",
    "display_board(test_board)"
   ]
  },
  {
   "cell_type": "markdown",
   "metadata": {},
   "source": [
    "**Step 2: Write a function that can take in a player input and assign their marker as 'X' or 'O'. Think about using *while* loops to continually ask until you get a correct answer.**"
   ]
  },
  {
   "cell_type": "code",
   "execution_count": 2,
   "metadata": {},
   "outputs": [],
   "source": [
    "def player_input():\n",
    "    \n",
    "    marker = input('Player 1, choose your marker (X or O): ')\n",
    "    \n",
    "    while marker.upper() != 'X' and marker.upper() != 'O':\n",
    "        print('INVALID MARKER!')\n",
    "        marker = input('Player 1, choose your marker (X or O): ')\n",
    "    \n",
    "    player1 = marker\n",
    "    \n",
    "    if player1.upper() == 'X':\n",
    "        player2 = 'O'\n",
    "    else:\n",
    "        player2 = 'X'\n",
    "    \n",
    "    return (player1.upper(), player2.upper())"
   ]
  },
  {
   "cell_type": "markdown",
   "metadata": {},
   "source": [
    "**TEST Step 2:** run the function to make sure it returns the desired output"
   ]
  },
  {
   "cell_type": "code",
   "execution_count": null,
   "metadata": {},
   "outputs": [],
   "source": [
    "player1_marker, player2_marker = player_input()"
   ]
  },
  {
   "cell_type": "markdown",
   "metadata": {},
   "source": [
    "**Step 3: Write a function that takes in the board list object, a marker ('X' or 'O'), and a desired position (number 1-9) and assigns it to the board.**"
   ]
  },
  {
   "cell_type": "code",
   "execution_count": 3,
   "metadata": {},
   "outputs": [],
   "source": [
    "def place_marker(board, marker, position):\n",
    "    \n",
    "    board[position] = marker\n",
    "    board[0] += 1"
   ]
  },
  {
   "cell_type": "markdown",
   "metadata": {},
   "source": [
    "**TEST Step 3:** run the place marker function using test parameters and display the modified board"
   ]
  },
  {
   "cell_type": "code",
   "execution_count": null,
   "metadata": {},
   "outputs": [],
   "source": [
    "place_marker(test_board,'$',8)\n",
    "display_board(test_board)"
   ]
  },
  {
   "cell_type": "markdown",
   "metadata": {},
   "source": [
    "**Step 4: Write a function that takes in a board and a mark (X or O) and then checks to see if that mark has won. **"
   ]
  },
  {
   "cell_type": "code",
   "execution_count": 4,
   "metadata": {},
   "outputs": [],
   "source": [
    "def win_check(board, mark):\n",
    "    \n",
    "    win_bool = False\n",
    "    \n",
    "    if (board[1] == mark and board[2] == mark and board[3] == mark) or (board[4] == mark and board[5] == mark and board[6] == mark) or (board[7] == mark and board[8] == mark and board[9] == mark) or (board[1] == mark and board[4] == mark and board[7] == mark) or (board[2] == mark and board[5] == mark and board[8] == mark) or (board[3] == mark and board[6] == mark and board[9] == mark) or (board[1] == mark and board[5] == mark and board[9] == mark) or (board[3] == mark and board[5] == mark and board[7] == mark):\n",
    "        \n",
    "        win_bool = True\n",
    "    \n",
    "    return win_bool"
   ]
  },
  {
   "cell_type": "markdown",
   "metadata": {},
   "source": [
    "**TEST Step 4:** run the win_check function against our test_board - it should return True"
   ]
  },
  {
   "cell_type": "code",
   "execution_count": null,
   "metadata": {},
   "outputs": [],
   "source": [
    "win_check(test_board,'X')"
   ]
  },
  {
   "cell_type": "markdown",
   "metadata": {},
   "source": [
    "**Step 5: Write a function that uses the random module to randomly decide which player goes first. You may want to lookup random.randint() Return a string of which player went first.**"
   ]
  },
  {
   "cell_type": "code",
   "execution_count": 5,
   "metadata": {},
   "outputs": [],
   "source": [
    "import random\n",
    "\n",
    "def choose_first():\n",
    "    \n",
    "    first = random.randint(1,2)\n",
    "    \n",
    "    if first == 1:\n",
    "        print('Player 1 will go first.')\n",
    "    else:\n",
    "        print('Player 2 will go first.')\n",
    "    \n",
    "    return first"
   ]
  },
  {
   "cell_type": "markdown",
   "metadata": {},
   "source": [
    "**Step 6: Write a function that returns a boolean indicating whether a space on the board is freely available.**"
   ]
  },
  {
   "cell_type": "code",
   "execution_count": 6,
   "metadata": {},
   "outputs": [],
   "source": [
    "def space_check(board, position):\n",
    "    \n",
    "    return board[position] == ' '"
   ]
  },
  {
   "cell_type": "markdown",
   "metadata": {},
   "source": [
    "**Step 7: Write a function that checks if the board is full and returns a boolean value. True if full, False otherwise.**"
   ]
  },
  {
   "cell_type": "code",
   "execution_count": 7,
   "metadata": {},
   "outputs": [],
   "source": [
    "def full_board_check(board):\n",
    "    \n",
    "    return board[0] == 9"
   ]
  },
  {
   "cell_type": "markdown",
   "metadata": {},
   "source": [
    "**Step 8: Write a function that asks for a player's next position (as a number 1-9) and then uses the function from step 6 to check if it's a free position. If it is, then return the position for later use.**"
   ]
  },
  {
   "cell_type": "code",
   "execution_count": 8,
   "metadata": {},
   "outputs": [],
   "source": [
    "def player_choice(board):\n",
    "    \n",
    "    choice = ' '\n",
    "    valid_number = False\n",
    "    \n",
    "    while valid_number == False or choice.isdigit() == False:\n",
    "        \n",
    "        choice = input('Select a box you would like to place your marker in (1-9): ')\n",
    "        \n",
    "        if choice.isdigit():\n",
    "            if int(choice) in range(0,10):\n",
    "                if space_check(board,int(choice)):\n",
    "                    return int(choice)\n",
    "                else:\n",
    "                    print('The box you selected already has a marker in it.')\n",
    "            else:\n",
    "                print('INVALID NUMBER')\n",
    "        else:\n",
    "            print('INVALID CHARACTER')"
   ]
  },
  {
   "cell_type": "markdown",
   "metadata": {},
   "source": [
    "**Step 9: Write a function that asks the player if they want to play again and returns a boolean True if they do want to play again.**"
   ]
  },
  {
   "cell_type": "code",
   "execution_count": 9,
   "metadata": {},
   "outputs": [],
   "source": [
    "def replay():\n",
    "    \n",
    "    again = ' '\n",
    "    \n",
    "    while again.upper() != 'Y' or again.upper() != 'N':\n",
    "        \n",
    "        again = input('Would you like to play again (Y or N)? ')\n",
    "        \n",
    "        if again.upper() == 'Y':\n",
    "            return True\n",
    "        elif again.upper() == 'N':\n",
    "            return False"
   ]
  },
  {
   "cell_type": "markdown",
   "metadata": {
    "collapsed": true
   },
   "source": [
    "**Step 10: Here comes the hard part! Use while loops and the functions you've made to run the game!**"
   ]
  },
  {
   "cell_type": "code",
   "execution_count": 10,
   "metadata": {},
   "outputs": [
    {
     "name": "stdout",
     "output_type": "stream",
     "text": [
      "1|2|3\n",
      "4|5|6\n",
      "7|8|9\n",
      "\n",
      "Welcome to Tic Tac Toe!\n",
      "The numbers 1-9 align with the boxes as shown above.\n",
      "This is very important! These numbers will be used to place your markers.\n",
      "\n",
      "Player 1, choose your marker (X or O): x\n",
      "Player 1 will go first.\n",
      " | | \n",
      " | | \n",
      " | | \n",
      "Player 1:\n",
      "Select a box you would like to place your marker in (1-9): 5\n",
      " | | \n",
      " |X| \n",
      " | | \n",
      "Player 2:\n",
      "Select a box you would like to place your marker in (1-9): 34\n",
      "INVALID NUMBER\n",
      "Select a box you would like to place your marker in (1-9): dg\n",
      "INVALID CHARACTER\n",
      "Select a box you would like to place your marker in (1-9): 1\n",
      "O| | \n",
      " |X| \n",
      " | | \n",
      "Player 1:\n",
      "Select a box you would like to place your marker in (1-9): 2\n",
      "O|X| \n",
      " |X| \n",
      " | | \n",
      "Player 2:\n",
      "Select a box you would like to place your marker in (1-9): 2\n",
      "The box you selected already has a marker in it.\n",
      "Select a box you would like to place your marker in (1-9): 8\n",
      "O|X| \n",
      " |X| \n",
      " |O| \n",
      "Player 1:\n",
      "Select a box you would like to place your marker in (1-9): 3\n",
      "O|X|X\n",
      " |X| \n",
      " |O| \n",
      "Player 2:\n",
      "Select a box you would like to place your marker in (1-9): 7\n",
      "O|X|X\n",
      " |X| \n",
      "O|O| \n",
      "Player 1:\n",
      "Select a box you would like to place your marker in (1-9): 6\n",
      "O|X|X\n",
      " |X|X\n",
      "O|O| \n",
      "Player 2:\n",
      "Select a box you would like to place your marker in (1-9): 4\n",
      "O|X|X\n",
      "O|X|X\n",
      "O|O| \n",
      "Player 2 Wins!\n",
      "Would you like to play again (Y or N)? n\n"
     ]
    }
   ],
   "source": [
    "display_board(['0','1','2','3','4','5','6','7','8','9'])\n",
    "print('\\nWelcome to Tic Tac Toe!')\n",
    "print('The numbers 1-9 align with the boxes as shown above.')\n",
    "print('This is very important! These numbers will be used to place your markers.\\n')\n",
    "\n",
    "game_on = True\n",
    "\n",
    "while game_on:\n",
    "    \n",
    "    player1_marker, player2_marker = player_input()\n",
    "    \n",
    "    player1 = choose_first()\n",
    "    if player1 == 1:\n",
    "        player2 = 2\n",
    "    else:\n",
    "        player2 = 1\n",
    "    \n",
    "    official_board = [0,' ',' ',' ',' ',' ',' ',' ',' ',' ']\n",
    "    \n",
    "    while full_board_check(official_board) == False:\n",
    "        \n",
    "        if player1 == 1:\n",
    "            display_board(official_board)\n",
    "            print('Player 1:')\n",
    "            spot = player_choice(official_board)\n",
    "            place_marker(official_board,player1_marker,spot)\n",
    "            \n",
    "            if win_check(official_board,player1_marker):\n",
    "                display_board(official_board)\n",
    "                print('Player 1 Wins!')\n",
    "                break\n",
    "            else:\n",
    "                player1 = 2\n",
    "                player2 = 1\n",
    "        else:\n",
    "            display_board(official_board)\n",
    "            print('Player 2:')\n",
    "            spot = player_choice(official_board)\n",
    "            place_marker(official_board,player2_marker,spot)\n",
    "            \n",
    "            if win_check(official_board,player2_marker):\n",
    "                display_board(official_board)\n",
    "                print('Player 2 Wins!')\n",
    "                break\n",
    "            else:\n",
    "                player1 = 1\n",
    "                player2 = 2\n",
    "    \n",
    "    if full_board_check(official_board):\n",
    "        print('Draw! No winner')\n",
    "    \n",
    "    game_on = replay()"
   ]
  },
  {
   "cell_type": "markdown",
   "metadata": {
    "collapsed": true
   },
   "source": [
    "## Good Job!"
   ]
  }
 ],
 "metadata": {
  "kernelspec": {
   "display_name": "Python 3",
   "language": "python",
   "name": "python3"
  },
  "language_info": {
   "codemirror_mode": {
    "name": "ipython",
    "version": 3
   },
   "file_extension": ".py",
   "mimetype": "text/x-python",
   "name": "python",
   "nbconvert_exporter": "python",
   "pygments_lexer": "ipython3",
   "version": "3.8.5"
  }
 },
 "nbformat": 4,
 "nbformat_minor": 1
}
